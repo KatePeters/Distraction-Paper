{
 "cells": [
  {
   "cell_type": "code",
   "execution_count": 8,
   "metadata": {},
   "outputs": [],
   "source": [
    "import dill\n",
    "import matplotlib.pyplot as plt\n",
    "import matplotlib as mpl\n",
    "import matplotlib.transforms as transforms\n",
    "from matplotlib.backends.backend_pdf import PdfPages\n",
    "import numpy as np\n",
    "\n",
    "%run \"..//JM_custom_figs.py\""
   ]
  },
  {
   "cell_type": "code",
   "execution_count": 9,
   "metadata": {},
   "outputs": [],
   "source": [
    "datafolder = \"C:\\\\Github\\\\Distraction-Paper\\\\data\\\\\"\n",
    "figfolder = \"C:\\\\Github\\\\Distraction-Paper\\\\figs\\\\\"\n",
    "outputfolder = \"C:\\\\Github\\\\Distraction-Paper\\\\output\\\\\"\n",
    "\n",
    "try:\n",
    "    pickle_in = open(datafolder + \"distraction_data_with_snips.pickle\", 'rb')\n",
    "except FileNotFoundError:\n",
    "        print('Cannot access pickled file')\n",
    "\n",
    "[modDict, disDict, habDict] = dill.load(pickle_in)"
   ]
  },
  {
   "cell_type": "code",
   "execution_count": 24,
   "metadata": {},
   "outputs": [
    {
     "data": {
      "text/plain": [
       "dict_keys(['rat', 'blue', 'uv', 'fs', 'filt', 'tick', 'licks', 'licks_off', 'distractors', 'distracted', 'notdistracted', 'd_bool_array', 'pdp', 'lickdata', 'snips_distractors', 'snips_distracted', 'snips_not-distracted'])"
      ]
     },
     "execution_count": 24,
     "metadata": {},
     "output_type": "execute_result"
    }
   ],
   "source": [
    "rat = 'thph1.1'\n",
    "d = modDict[rat]\n",
    "d.keys()"
   ]
  },
  {
   "cell_type": "code",
   "execution_count": 25,
   "metadata": {},
   "outputs": [],
   "source": [
    "def remcheck(val, range1, range2):\n",
    "    # function checks whether value is within range of two decimels\n",
    "    if (range1 < range2):\n",
    "        if (val > range1) and (val < range2):\n",
    "            return True\n",
    "        else:\n",
    "            return False\n",
    "    else:\n",
    "        if (val > range1) or (val < range2):\n",
    "            return True\n",
    "        else:\n",
    "            return False"
   ]
  },
  {
   "cell_type": "code",
   "execution_count": 27,
   "metadata": {},
   "outputs": [],
   "source": [
    "def distractionCalc2(licks, pre=1, post=1):\n",
    "    \"\"\"\n",
    "    Works out from list of lick timestamps when distractors should occur\n",
    "    \"\"\"\n",
    "    \n",
    "    licks = np.insert(licks, 0, 0)\n",
    "    b = 0.001\n",
    "    d = []\n",
    "    idx = 3\n",
    "    \n",
    "    while idx < len(licks):\n",
    "        if licks[idx]-licks[idx-2] < 1 and remcheck(b, licks[idx-2] % 1, licks[idx] % 1) == False:\n",
    "            d.append(licks[idx])\n",
    "            b = licks[idx] % 1\n",
    "            idx += 1\n",
    "            try:\n",
    "                while licks[idx]-licks[idx-1] < 1:\n",
    "                    b = licks[idx] % 1\n",
    "                    idx += 1\n",
    "            except IndexError:\n",
    "                pass\n",
    "        else:\n",
    "            idx +=1\n",
    "            \n",
    "    if d[-1] > 3599:\n",
    "        d = d[:-1]\n",
    "    \n",
    "    return d"
   ]
  },
  {
   "cell_type": "code",
   "execution_count": 31,
   "metadata": {},
   "outputs": [],
   "source": [
    "def distracted_or_not(distractors, licks, delay=1):   \n",
    "    pdp = [] # post-distraction pause\n",
    "    pre_dp = [] # pre-distraction pause\n",
    "    distractedArray = []\n",
    "\n",
    "    for d in distractors:               \n",
    "        try:\n",
    "            pdp.append([lick - d for lick in licks if (lick > d)][0])\n",
    "        except IndexError:\n",
    "            pdp.append(3600-d) # designates end of session as max pdp\n",
    "            \n",
    "        distractor_index = [idx for idx, lick in enumerate(licks) if lick == d][0]\n",
    "        try:\n",
    "            pre_dp.append(-[ili for ili in np.diff(licks[distractor_index::-1]) if ili < -1][0])\n",
    "        except IndexError:\n",
    "            pre_dp.append(licks[0])\n",
    "            \n",
    "\n",
    "    distracted_boolean_array = np.array([i>delay for i in pdp], dtype=bool)\n",
    "    \n",
    "    distracted = [d for d,l in zip(distractors, distracted_boolean_array) if l]\n",
    "    notdistracted = [d for d,l in zip(distractors, distracted_boolean_array) if not l] \n",
    "    \n",
    "    if np.isnan(pdp)[-1] == 1: \n",
    "        distracted_boolean_array[-1] = True\n",
    "    \n",
    "    return [distracted, notdistracted], distracted_boolean_array, pdp, pre_dp"
   ]
  },
  {
   "cell_type": "code",
   "execution_count": 32,
   "metadata": {},
   "outputs": [],
   "source": [
    "dis = distractionCalc2(d['licks'])"
   ]
  },
  {
   "cell_type": "code",
   "execution_count": 33,
   "metadata": {},
   "outputs": [
    {
     "name": "stdout",
     "output_type": "stream",
     "text": [
      "59 59\n"
     ]
    }
   ],
   "source": [
    "print(len(dis), len(d['distractors']))"
   ]
  },
  {
   "cell_type": "code",
   "execution_count": 36,
   "metadata": {},
   "outputs": [
    {
     "data": {
      "text/plain": [
       "59"
      ]
     },
     "execution_count": 36,
     "metadata": {},
     "output_type": "execute_result"
    }
   ],
   "source": [
    "len(distracted_or_not(dis, d['licks'])[3])"
   ]
  },
  {
   "cell_type": "code",
   "execution_count": 34,
   "metadata": {},
   "outputs": [
    {
     "data": {
      "text/plain": [
       "[4, 12, 15, 20, 23, 26, 29, 32, 35]"
      ]
     },
     "execution_count": 34,
     "metadata": {},
     "output_type": "execute_result"
    }
   ],
   "source": [
    "distractor_indices = []\n",
    "for dis in ds:\n",
    "    distractor_indices.append([idx for idx, lick in enumerate(licks) if lick == dis][0])\n",
    "    \n",
    "distractor_indices"
   ]
  },
  {
   "cell_type": "code",
   "execution_count": 38,
   "metadata": {},
   "outputs": [
    {
     "name": "stdout",
     "output_type": "stream",
     "text": [
      "4\n",
      "12\n",
      "15\n",
      "20\n",
      "23\n",
      "26\n",
      "29\n",
      "32\n",
      "35\n"
     ]
    }
   ],
   "source": [
    "pre_dp=[]\n",
    "for d_ind in distractor_indices:\n",
    "    pre_dp.append(-[ili for ili in np.diff(licks[d_ind::-1]) if ili < -1][0])"
   ]
  },
  {
   "cell_type": "code",
   "execution_count": 39,
   "metadata": {},
   "outputs": [
    {
     "data": {
      "text/plain": [
       "[85.26757888,\n",
       " 71.28481791999997,\n",
       " 36.02726912000003,\n",
       " 26.54355456000002,\n",
       " 26.075299840000014,\n",
       " 4.6609203200000024,\n",
       " 4.217896959999962,\n",
       " 101.19430144,\n",
       " 6.447923199999991]"
      ]
     },
     "execution_count": 39,
     "metadata": {},
     "output_type": "execute_result"
    }
   ],
   "source": [
    "pre_dp"
   ]
  },
  {
   "cell_type": "code",
   "execution_count": null,
   "metadata": {},
   "outputs": [],
   "source": [
    "pre_dp=[]\n",
    "for d_ind in distractor_indices:\n",
    "    [lick for idx, lick in enumerate(licks) if lick]"
   ]
  },
  {
   "cell_type": "code",
   "execution_count": null,
   "metadata": {},
   "outputs": [],
   "source": []
  }
 ],
 "metadata": {
  "kernelspec": {
   "display_name": "Python 3",
   "language": "python",
   "name": "python3"
  },
  "language_info": {
   "codemirror_mode": {
    "name": "ipython",
    "version": 3
   },
   "file_extension": ".py",
   "mimetype": "text/x-python",
   "name": "python",
   "nbconvert_exporter": "python",
   "pygments_lexer": "ipython3",
   "version": "3.7.6"
  }
 },
 "nbformat": 4,
 "nbformat_minor": 4
}

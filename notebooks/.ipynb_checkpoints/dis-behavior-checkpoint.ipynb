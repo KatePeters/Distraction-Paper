{
 "cells": [
  {
   "cell_type": "code",
   "execution_count": 1,
   "metadata": {},
   "outputs": [
    {
     "name": "stderr",
     "output_type": "stream",
     "text": [
      "C:\\Github\\Distraction-Paper\\JM_custom_figs.py:11: DeprecationWarning: Using or importing the ABCs from 'collections' instead of from 'collections.abc' is deprecated, and in 3.8 it will stop working\n",
      "  from collections import Sequence\n"
     ]
    }
   ],
   "source": [
    "import dill\n",
    "import matplotlib.pyplot as plt\n",
    "import matplotlib as mpl\n",
    "import matplotlib.transforms as transforms\n",
    "import numpy as np\n",
    "\n",
    "%run \"..//JM_custom_figs.py\""
   ]
  },
  {
   "cell_type": "code",
   "execution_count": 2,
   "metadata": {},
   "outputs": [],
   "source": [
    "datafolder = \"C:\\\\Github\\\\Distraction-Paper\\\\data\\\\\"\n",
    "figfolder = \"C:\\\\Github\\\\Distraction-Paper\\\\figs\\\\\"\n",
    "\n",
    "try:\n",
    "    pickle_in = open(datafolder + \"distraction_data_only_snips.pickle\", 'rb')\n",
    "except FileNotFoundError:\n",
    "        print('Cannot access pickled file')\n",
    "\n",
    "[modDict, disDict, habDict] = dill.load(pickle_in)"
   ]
  },
  {
   "cell_type": "code",
   "execution_count": 3,
   "metadata": {},
   "outputs": [],
   "source": [
    "for day in [modDict, disDict, habDict]:\n",
    "    rats = day.keys()\n",
    "    for rat in rats:\n",
    "        d = day[rat]\n",
    "        # check that numbers add up\n",
    "        d ['#ds'] =len(d['distractors'])\n",
    "        d ['#distracted'] =len(d['distracted'])\n",
    "        d ['#not-dis'] =len(d['notdistracted'])   \n",
    "        if d['#not-dis'] + d['#distracted'] == d['#ds']:\n",
    "            d['prob-distracted'] = d['#distracted'] / d['#ds']\n",
    "        else:\n",
    "            print(\"Something wrong in the number of distracted and non-distracted trials\")\n"
   ]
  },
  {
   "cell_type": "code",
   "execution_count": 4,
   "metadata": {},
   "outputs": [],
   "source": [
    "probdisMod, probdisDis, probdisHab = [], [], []\n",
    "for day, output in zip([modDict, disDict, habDict],\n",
    "                      [probdisMod, probdisDis, probdisHab]):\n",
    "    rats = day.keys()\n",
    "    for rat in rats:\n",
    "        d = day[rat]\n",
    "        output.append(d['prob-distracted'])"
   ]
  },
  {
   "cell_type": "code",
   "execution_count": 5,
   "metadata": {},
   "outputs": [
    {
     "data": {
      "image/png": "[encoded data removed]",
      "text/plain": [
       "<Figure size 144x216 with 1 Axes>"
      ]
     },
     "metadata": {
      "needs_background": "light"
     },
     "output_type": "display_data"
    }
   ],
   "source": [
    "colors = ['darkturquoise','dodgerblue', 'darkblue']\n",
    "\n",
    "f, ax = plt.subplots(figsize=(2,3))\n",
    "f.subplots_adjust(left=0.4)\n",
    "barscatter([probdisMod, probdisDis, probdisHab], paired=True,\n",
    "           barfacecolor=colors, barfacecoloroption='individual',\n",
    "           ax=ax)\n",
    "\n",
    "ax.set_ylabel('Probability of distraction')\n",
    "ax.set_xticks([1,2,3])\n",
    "ax.set_xticklabels(['Mod', 'Dis', 'Hab'])\n",
    "ax.set_ylim([-0.1, 1.1])\n",
    "\n",
    "f.savefig(figfolder+\"fig2_probability of distraction.pdf\")"
   ]
  },
  {
   "cell_type": "code",
   "execution_count": 6,
   "metadata": {},
   "outputs": [],
   "source": [
    "def distractionrasterFig(ax, timelock, events,\n",
    "                         pre = 1, post = 1,\n",
    "                         sortevents=None, sortdirection='ascending',\n",
    "                         title=''):\n",
    "\n",
    "    if sortevents != None:\n",
    "        if len(timelock) != len(sortevents):\n",
    "            print('Length of sort events does not match timelock events; no sorting')\n",
    "\n",
    "        if len(timelock) == (len(sortevents) + 1):\n",
    "            sortevents.append(0)\n",
    "            \n",
    "            if sortdirection == 'ascending':\n",
    "                sortOrder = np.argsort(sortevents)\n",
    "            else:\n",
    "                sortOrder = np.argsort(sortevents)[::-1]\n",
    "                \n",
    "            timelock = [timelock[i] for i in sortOrder]    \n",
    "        else:\n",
    "            if sortdirection == 'ascending':\n",
    "                sortOrder = np.argsort(sortevents)\n",
    "            else:\n",
    "                sortOrder = np.argsort(sortevents)[::-1]\n",
    "                \n",
    "            timelock = [timelock[i] for i in sortOrder]\n",
    "    \n",
    "    rasterData = [[] for i in timelock]\n",
    "    \n",
    "    for i,x in enumerate(timelock):\n",
    "        rasterData[i] = [j-x for j in events if (j > x-pre) & (j < x+post)]\n",
    " \n",
    "    for ith, trial in enumerate(rasterData):\n",
    "\n",
    "        xvals = [x for x in trial] \n",
    "        yvals = [1+ith] * len(xvals)\n",
    "        \n",
    "        pdplist = [lick for lick in xvals if lick > 0 and lick < 1]\n",
    "        if len(pdplist) > 0:\n",
    "            ax.scatter(xvals, yvals, marker=',', s=1, color='k')\n",
    "        else:\n",
    "            ax.scatter(xvals, yvals, marker=',', s=1, color='xkcd:light blue')\n",
    "    \n",
    "    ax.set_title(title)"
   ]
  },
  {
   "cell_type": "code",
   "execution_count": 7,
   "metadata": {},
   "outputs": [],
   "source": [
    "def scalebar4raster(ax, length=1, offset=1, ypos=0):\n",
    "    \n",
    "    # Turns off bottom axis and x ticks\n",
    "    ax.spines['bottom'].set_visible(False)\n",
    "    ax.set_xticks([])\n",
    "    \n",
    "    # Gets x coordinates for scale bar\n",
    "    xmin=ax.get_xlim()[0]\n",
    "    x0=xmin+offset\n",
    "    x1=xmin+offset+length\n",
    "    \n",
    "    # Sets up a transform for x in data coords and y in axis coords\n",
    "    trans = transforms.blended_transform_factory(\n",
    "    ax.transData, ax.transAxes)\n",
    "\n",
    "    # Plots line using x and y and transform\n",
    "    line = mpl.lines.Line2D([x0, x1], [ypos, ypos], lw=2., color='k', transform=trans)\n",
    "    line.set_clip_on(False)\n",
    "    ax.add_line(line)\n",
    "    \n",
    "    # Adds text below line\n",
    "    ax.text((x1-length/2), ypos-0.02, '{} s'.format(length), va='top', ha='center', transform=trans)\n",
    "    \n",
    "    # Adds triangle to show distractor\n",
    "    ax.plot(0, 1., marker=\"v\", markersize=6, color='grey', clip_on=False, transform=trans)"
   ]
  },
  {
   "cell_type": "code",
   "execution_count": 8,
   "metadata": {},
   "outputs": [
    {
     "data": {
      "image/png": "[encoded data removed]",
      "text/plain": [
       "<Figure size 1296x288 with 3 Axes>"
      ]
     },
     "metadata": {
      "needs_background": "light"
     },
     "output_type": "display_data"
    }
   ],
   "source": [
    "rat='thph1.4'\n",
    "\n",
    "f, ax = plt.subplots(ncols=3, figsize=(18,4))\n",
    "\n",
    "d=modDict[rat]\n",
    "rasterPlot = distractionrasterFig(ax[0],\n",
    "                                  d['distractors'],\n",
    "                                  d['licks'],\n",
    "                                  pre=5, post=10, sortevents=d['pdp'], sortdirection='dec',\n",
    "                                  title='Modelled')\n",
    "\n",
    "d=disDict[rat]\n",
    "rasterPlot = distractionrasterFig(ax[1],\n",
    "                                  d['distractors'],\n",
    "                                  d['licks'],\n",
    "                                  pre=5, post=10, sortevents=d['pdp'], sortdirection='dec',\n",
    "                                  title='Distraction')\n",
    "\n",
    "d=habDict[rat]\n",
    "rasterPlot = distractionrasterFig(ax[2],\n",
    "                                  d['distractors'],\n",
    "                                  d['licks'],\n",
    "                                  pre=5, post=10, sortevents=d['pdp'], sortdirection='dec',\n",
    "                                  title='Habituation')\n",
    "\n",
    "ax[0].set_ylabel('Sorted trials')\n",
    "\n",
    "for axis in ax:\n",
    "    #axis.set_xlabel('Time from distractor (s)')\n",
    "    axis.spines['right'].set_visible(False)\n",
    "    axis.spines['top'].set_visible(False)\n",
    "    scalebar4raster(axis)\n",
    "\n",
    "f.savefig(figfolder+\"fig2_raster plots.pdf\")"
   ]
  },
  {
   "cell_type": "code",
   "execution_count": 9,
   "metadata": {},
   "outputs": [],
   "source": [
    "# code to calculate average PDP on distraction day\n",
    "\n",
    "long_pdps = []\n",
    "avg_long_pdps = []\n",
    "\n",
    "rats = day.keys()\n",
    "for rat in rats:\n",
    "    d=disDict[rat]\n",
    "    pdps = [pdp for pdp, L in zip(d['pdp'], d['d_bool_array']) if L]\n",
    "    long_pdps.append(pdps)\n",
    "    avg_long_pdps.append(np.mean(pdps))\n",
    "    \n",
    "    \n",
    "\n"
   ]
  },
  {
   "cell_type": "code",
   "execution_count": 10,
   "metadata": {},
   "outputs": [
    {
     "data": {
      "text/plain": [
       "[26.80658269658538,\n",
       " 22.59749770491803,\n",
       " 92.06218751999998,\n",
       " 28.744877292307688,\n",
       " 34.731263512380984,\n",
       " 14.806735725714296,\n",
       " 15.369972394666679,\n",
       " 212.79590399999995,\n",
       " 72.26436095999998,\n",
       " 23.78252288000003,\n",
       " 90.34890752,\n",
       " 32.32661007515151,\n",
       " 34.68272786285714]"
      ]
     },
     "execution_count": 10,
     "metadata": {},
     "output_type": "execute_result"
    }
   ],
   "source": [
    "avg_long_pdps"
   ]
  },
  {
   "cell_type": "code",
   "execution_count": null,
   "metadata": {},
   "outputs": [],
   "source": []
  }
 ],
 "metadata": {
  "kernelspec": {
   "display_name": "Python 3",
   "language": "python",
   "name": "python3"
  },
  "language_info": {
   "codemirror_mode": {
    "name": "ipython",
    "version": 3
   },
   "file_extension": ".py",
   "mimetype": "text/x-python",
   "name": "python",
   "nbconvert_exporter": "python",
   "pygments_lexer": "ipython3",
   "version": "3.7.3"
  }
 },
 "nbformat": 4,
 "nbformat_minor": 4
}

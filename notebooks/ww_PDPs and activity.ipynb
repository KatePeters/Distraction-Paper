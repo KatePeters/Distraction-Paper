{
 "cells": [
  {
   "cell_type": "code",
   "execution_count": 1,
   "metadata": {},
   "outputs": [],
   "source": [
    "import dill\n",
    "import matplotlib.pyplot as plt\n",
    "import matplotlib as mpl\n",
    "import matplotlib.transforms as transforms\n",
    "from matplotlib.backends.backend_pdf import PdfPages\n",
    "import numpy as np\n",
    "\n",
    "from scipy.stats import linregress\n",
    "\n",
    "import trompy as tp\n",
    "\n",
    "%matplotlib inline"
   ]
  },
  {
   "cell_type": "code",
   "execution_count": 2,
   "metadata": {},
   "outputs": [],
   "source": [
    "datafolder = \"C:\\\\Github\\\\Distraction-Paper\\\\data\\\\\"\n",
    "figfolder = \"C:\\\\Github\\\\Distraction-Paper\\\\figs\\\\\"\n",
    "outputfolder = \"C:\\\\Github\\\\Distraction-Paper\\\\output\\\\\"\n",
    "\n",
    "try:\n",
    "    pickle_in = open(datafolder + \"distraction_data_only_snips.pickle\", 'rb')\n",
    "except FileNotFoundError:\n",
    "        print('Cannot access pickled file')\n",
    "\n",
    "[modDict, disDict, habDict] = dill.load(pickle_in)"
   ]
  },
  {
   "cell_type": "code",
   "execution_count": 3,
   "metadata": {},
   "outputs": [
    {
     "data": {
      "text/plain": [
       "dict_keys(['rat', 'rms', 'fs', 'deltaF', 'tick', 'filt_sd', 'licks', 'licks_off', 'distractors', 'distracted', 'notdistracted', 'd_bool_array', 'pdp', 'pre_dp', 'trialtype', 'lickdata', 'snips_distractors', 'snips_distracted', 'snips_not-distracted'])"
      ]
     },
     "execution_count": 3,
     "metadata": {},
     "output_type": "execute_result"
    }
   ],
   "source": [
    "rat = 'thph1.1'\n",
    "d = disDict[rat]\n",
    "d.keys()"
   ]
  },
  {
   "cell_type": "code",
   "execution_count": 4,
   "metadata": {},
   "outputs": [],
   "source": [
    "epoch = [60, 90]\n",
    "pdp_threshold = 1\n",
    "\n",
    "PDPs = []\n",
    "AUCs = []\n",
    "\n",
    "rats = disDict.keys()\n",
    "for rat in rats:\n",
    "    d = disDict[rat]\n",
    "    snips = d[\"snips_distractors\"][\"filt_z\"]\n",
    "    \n",
    "    PDPs.append([pdp for pdp in d[\"pdp\"] if pdp > pdp_threshold])\n",
    "    AUCs.append([np.sum(snip[epoch[0]:epoch[1]]) for snip, pdp in zip(snips, d[\"pdp\"]) if pdp > pdp_threshold])\n",
    "    \n",
    "PDPs = tp.flatten_list(PDPs)\n",
    "AUCs = tp.flatten_list(AUCs)"
   ]
  },
  {
   "cell_type": "code",
   "execution_count": 91,
   "metadata": {
    "scrolled": true
   },
   "outputs": [
    {
     "data": {
      "image/png": "[encoded data removed]",
      "text/plain": [
       "<Figure size 360x216 with 2 Axes>"
      ]
     },
     "metadata": {
      "needs_background": "light"
     },
     "output_type": "display_data"
    }
   ],
   "source": [
    "\n",
    "f, [ax1, ax2] = plt.subplots(figsize=(5, 3), ncols=2, sharey=True)\n",
    "f.subplots_adjust(left=0.2, bottom=0.2, wspace=0.3)\n",
    "\n",
    "trans = transforms.blended_transform_factory(\n",
    "            ax1.transData, ax1.transAxes)\n",
    "\n",
    "ax1.scatter(PDPs, AUCs, marker=\"o\", color=\"none\", edgecolor=\"k\")\n",
    "\n",
    "ax1.set_ylabel(\"AUC (1-4 s)\")\n",
    "ax1.set_xlabel(\"Post-distraction pause (s)\")\n",
    "\n",
    "ax1.set_xscale(\"log\")\n",
    "\n",
    "slope, intercept, r, p, _ = linregress(PDPs, AUCs)\n",
    "\n",
    "x1, x2 = ax1.get_xlim()\n",
    "ax1.plot([x1, x2], [x1*slope + intercept, x2*slope+intercept], \"--\", color=\"xkcd:light blue\")\n",
    "\n",
    "\n",
    "stats_str = f\"r={r:2.2}\\np={p:2.3}\" \n",
    "ax1.text(300, 0.9, stats_str, transform=trans, ha=\"left\")\n",
    "\n",
    "\n",
    "median_pdp = np.median(PDPs)\n",
    "ax1.axvline(median_pdp, linestyle=\"--\", color=\"orange\", alpha=0.7)\n",
    "ax1.text(median_pdp, 1.03, \"Median PDP\", ha=\"center\", transform=trans)\n",
    "\n",
    "\n",
    "\n",
    "AUC_from_shPDPs = [auc for auc, pdp in zip(AUCs, PDPs) if pdp <= median_pdp]\n",
    "AUC_from_loPDPs = [auc for auc, pdp in zip(AUCs, PDPs) if pdp >= median_pdp]\n",
    "\n",
    "\n",
    "ax2.boxplot([AUC_from_shPDPs, AUC_from_loPDPs],\n",
    "            widths=0.7,\n",
    "            patch_artist =True,\n",
    "            notch=True)\n",
    "\n",
    "ax2.set_xticklabels([\"Short\", \"Long\"])\n",
    "ax2.set_xlabel(\"Post-distraction pause\")\n",
    "\n",
    "for axis in [ax1, ax2]:\n",
    "    axis.spines[\"top\"].set_visible(False)\n",
    "    axis.spines[\"right\"].set_visible(False)\n",
    "\n",
    "f.savefig(figfolder+\"figs5_pdp_and_auc.pdf\")\n",
    "\n",
    "# ax2.set_yscale(\"log\")\n",
    "\n"
   ]
  },
  {
   "cell_type": "code",
   "execution_count": 67,
   "metadata": {},
   "outputs": [
    {
     "data": {
      "text/plain": [
       "757.9331344547738"
      ]
     },
     "execution_count": 67,
     "metadata": {},
     "output_type": "execute_result"
    }
   ],
   "source": [
    "max(AUC_from_loPDPs)"
   ]
  },
  {
   "cell_type": "code",
   "execution_count": 54,
   "metadata": {},
   "outputs": [
    {
     "name": "stdout",
     "output_type": "stream",
     "text": [
      "Median AUC on short PDP trials is 5.937955018634052 and mean is 22.276669291787826\n",
      "Median AUC on long PDP trials is 26.714134466129565 and mean is 37.14036832311489\n",
      "Ttest_indResult(statistic=-1.566305743532648, pvalue=0.11820182862620787)\n",
      "Ttest_indResult(statistic=nan, pvalue=nan)\n",
      "Ttest_indResult(statistic=-1.0912381721623996, pvalue=0.2759362761061925)\n"
     ]
    },
    {
     "name": "stderr",
     "output_type": "stream",
     "text": [
      "C:\\ProgramData\\Anaconda3\\envs\\dis\\lib\\site-packages\\ipykernel_launcher.py:9: RuntimeWarning: invalid value encountered in sqrt\n",
      "  if __name__ == '__main__':\n"
     ]
    },
    {
     "data": {
      "text/plain": [
       "array([ 97.66934822, 154.1993562 ,  82.58856965, 123.126783  ,\n",
       "       101.82879442, 116.2658916 ,  83.09137563, 191.5758055 ,\n",
       "       219.65406648,  98.58649217, 164.8120904 , 116.95174922,\n",
       "        59.93995619, 144.17034189, 148.90716144, 113.37687842,\n",
       "       133.08024387, 112.01061545, 206.97950161, 185.1434157 ,\n",
       "       222.97157474, 408.49256515,  82.69957315, 164.40795782,\n",
       "       115.79393589,  74.56733606, 108.10617911, 124.47287   ,\n",
       "       130.4112578 , 130.95472752, 110.01194811, 158.0026843 ,\n",
       "        91.51213532, 166.34225584, 139.36576554, 134.1992023 ,\n",
       "       113.18222526, 163.94834019, 112.61204475, 127.90533508,\n",
       "       115.96395525, 171.26211541, 114.64319026, 141.78697771,\n",
       "        86.63215419, 110.09982071,  83.01792569, 102.52844018,\n",
       "       112.5470395 ,  90.55329598, 137.27819182, 227.85410118,\n",
       "        71.71894582, 134.41647033, 259.36155244, 206.77737521,\n",
       "       179.60861921, 139.65622206, 180.99735671, 101.45349572,\n",
       "        46.35728648, 203.68818711,  51.39511431, 368.9548363 ,\n",
       "       191.45529704, 148.3840386 , 340.55176669, 129.15673978,\n",
       "        50.77904858, 115.44104383,  71.87548568, 273.93018696,\n",
       "       326.33638305, 114.8808766 , 106.53071831, 173.9146889 ,\n",
       "       139.0512835 , 149.05245332, 148.75724979, 166.70671959,\n",
       "       202.93704749, 207.63987383, 163.78784285, 214.67315729,\n",
       "       213.42659926, 206.68887   , 176.86388689, 247.35089048,\n",
       "       157.81964626, 296.71134034, 237.53531961, 263.89169097,\n",
       "       134.84727762, 210.83598933, 169.45748978, 149.75962606,\n",
       "       128.19808369, 141.8080772 , 176.94318784,  86.36516821,\n",
       "       129.97535519, 147.42662896, 153.28210147, 192.897844  ,\n",
       "       176.54439857, 324.74081743, 144.19355419, 194.65242089,\n",
       "       262.7224028 , 268.45228942, 169.57400569, 193.40461295,\n",
       "       184.59682002,  70.45278977, 103.40382495, 129.41169301,\n",
       "       212.65315965, 131.66144837, 520.24249299, 206.57836658,\n",
       "        84.5956215 , 152.24434379, 193.60056738, 160.97235118,\n",
       "       329.21844977, 184.39034431, 211.82024549,  85.72727024,\n",
       "       169.22638309, 115.06605047, 183.02659599, 249.99774759,\n",
       "       215.09831489, 202.97688472, 102.18037433, 120.09196061,\n",
       "       246.55718371, 176.11258107, 265.80369806, 157.39856366,\n",
       "       560.90951542, 314.10691563, 160.95218144, 172.51274857,\n",
       "       148.16443407, 111.61469584,  81.95383909, 159.69497571,\n",
       "       246.29374037, 314.88177424, 172.51584978, 220.81884223,\n",
       "       347.0681515 , 156.79994228, 167.23635277, 326.06602091,\n",
       "       181.31372113, 338.29345842, 131.40018848, 157.94613524,\n",
       "       141.99469613, 142.37385278, 497.63687968, 368.17727426,\n",
       "       150.2939243 , 144.40713688, 174.71369652,  88.84438493,\n",
       "       183.32387426, 257.80135594, 150.84378626, 130.58739687])"
      ]
     },
     "execution_count": 54,
     "metadata": {},
     "output_type": "execute_result"
    }
   ],
   "source": [
    "from scipy.stats import ttest_rel as ttest\n",
    "from scipy.stats import ttest_ind as ttest_ind\n",
    "\n",
    "print(\"Median AUC on short PDP trials is\", np.median(AUC_from_shPDPs), \"and mean is\", np.mean(AUC_from_shPDPs))\n",
    "print(\"Median AUC on long PDP trials is\", np.median(AUC_from_loPDPs), \"and mean is\", np.mean(AUC_from_loPDPs))\n",
    "\n",
    "print(ttest_ind(AUC_from_shPDPs, AUC_from_loPDPs))\n",
    "\n",
    "print(ttest_ind(np.sqrt(AUC_from_shPDPs), np.sqrt(AUC_from_loPDPs)))\n",
    "\n",
    "# print(\"The proportion of trials in which the last distractor was within the baseline period is approximately:\")\n",
    "# print(len([L for L in pre_dps_notdistracted_all if L < 5]) / len(pre_dps_notdistracted_all), \"for nondistracted trials.\")\n",
    "# print(len([L for L in pre_dps_distracted_all if L < 5]) / len(pre_dps_notdistracted_all), \"for distracted trials.\")\n",
    "\n",
    "minval = np.abs(min(min(AUC_from_shPDPs), min(AUC_from_loPDPs)))\n",
    "\n",
    "tr_shPDPs = AUC_from_shPDPs + (minval + 1)\n",
    "tr_loPDPs = AUC_from_loPDPs + (minval + 1)\n",
    "\n",
    "print(ttest_ind(np.log(tr_shPDPs), np.log(tr_loPDPs)))\n",
    "\n",
    "tr_shPDPs"
   ]
  },
  {
   "cell_type": "code",
   "execution_count": 44,
   "metadata": {},
   "outputs": [
    {
     "name": "stderr",
     "output_type": "stream",
     "text": [
      "C:\\ProgramData\\Anaconda3\\envs\\dis\\lib\\site-packages\\ipykernel_launcher.py:1: RuntimeWarning: invalid value encountered in sqrt\n",
      "  \"\"\"Entry point for launching an IPython kernel.\n"
     ]
    },
    {
     "data": {
      "text/plain": [
       "array([        nan,  1.74300265,         nan,         nan,         nan,\n",
       "               nan,         nan,  6.35724056,  8.2760358 ,         nan,\n",
       "        3.69469788,         nan,         nan,         nan,         nan,\n",
       "               nan,         nan,         nan,  7.47115812,  5.8294183 ,\n",
       "        8.47409445, 16.04154815,         nan,  3.63959611,         nan,\n",
       "               nan,         nan,         nan,         nan,         nan,\n",
       "               nan,  2.61560439,         nan,  3.89627487,         nan,\n",
       "               nan,         nan,  3.5758974 ,         nan,         nan,\n",
       "               nan,  4.48339352,         nan,         nan,         nan,\n",
       "               nan,         nan,         nan,         nan,         nan,\n",
       "               nan,  8.75744273,         nan,         nan, 10.40193513,\n",
       "        7.45761874,  5.33360303,         nan,  5.46223935,         nan,\n",
       "               nan,  7.24754366,         nan, 14.75782973,  6.34775544,\n",
       "               nan, 13.76192097,         nan,         nan,         nan,\n",
       "               nan, 11.08011232, 13.2353725 ,         nan,         nan,\n",
       "        4.77005146,         nan,         nan,         nan,  3.94276827,\n",
       "        7.19553678,  7.51522294,  3.55338499,  7.96943281,  7.89083654,\n",
       "        7.4516825 ,  5.06977208,  9.8076293 ,  2.58037755, 12.06441223,\n",
       "        9.29376251, 10.61745699,         nan,  7.72493957,  4.2774048 ,\n",
       "               nan,         nan,         nan,  5.07758701,         nan,\n",
       "               nan,         nan,  1.45629788,  6.46038281,  5.03816441,\n",
       "       13.17495804,         nan,  6.59477998, 10.56224904, 10.83009656,\n",
       "        4.29100312,  6.49948575,  5.78234572,         nan,         nan,\n",
       "               nan,  7.84167467,         nan, 19.21148602,  7.44426414,\n",
       "               nan,  1.04069488,  6.51454292,  3.13226008, 13.34380575,\n",
       "        5.7644641 ,  7.78838543,         nan,  4.25030412,         nan,\n",
       "        5.64493561,  9.94165226,  7.99606259,  7.19830444,         nan,\n",
       "               nan,  9.76708174,  4.99512594, 10.70711913,  2.49745184,\n",
       "       20.24223845, 12.76501538,  3.12903875,  4.62076299,         nan,\n",
       "               nan,         nan,  2.92124593,  9.75358613, 12.79533025,\n",
       "        4.62109855,  8.34610953, 13.99667295,  2.37458298,  4.00937088,\n",
       "       13.22515493,  5.49112221, 13.67962574,         nan,  2.60477202,\n",
       "               nan,         nan, 18.61385456, 14.73146212,         nan,\n",
       "               nan,  4.85308135,         nan,  5.67120589, 10.32666732,\n",
       "               nan,         nan])"
      ]
     },
     "execution_count": 44,
     "metadata": {},
     "output_type": "execute_result"
    }
   ],
   "source": [
    "np.sqrt(AUC_from_shPDPs)"
   ]
  },
  {
   "cell_type": "code",
   "execution_count": 7,
   "metadata": {},
   "outputs": [
    {
     "name": "stdout",
     "output_type": "stream",
     "text": [
      "0.022107900050024165 28.80617658954732 0.03157991037341743 0.5593994324098989\n"
     ]
    }
   ],
   "source": [
    "print(slope, intercept, r, p)"
   ]
  },
  {
   "cell_type": "code",
   "execution_count": 12,
   "metadata": {},
   "outputs": [
    {
     "data": {
      "image/png": "[encoded data removed]",
      "text/plain": [
       "<Figure size 432x288 with 1 Axes>"
      ]
     },
     "metadata": {
      "needs_background": "light"
     },
     "output_type": "display_data"
    }
   ],
   "source": [
    "median_pdp = np.median(PDPs)\n",
    "\n",
    "AUC_from_shPDPs = [auc for auc, pdp in zip(AUCs, PDPs) if pdp < median_pdp]\n",
    "AUC_from_loPDPs = [auc for auc, pdp in zip(AUCs, PDPs) if pdp > median_pdp]\n",
    "\n",
    "f, ax = plt.subplots()\n",
    "\n",
    "ax.boxplot([AUC_from_shPDPs, AUC_from_shPDPs])\n",
    "\n",
    "ax.set_yscale(\"log\")\n"
   ]
  },
  {
   "cell_type": "code",
   "execution_count": 49,
   "metadata": {},
   "outputs": [
    {
     "ename": "TypeError",
     "evalue": "can't multiply sequence by non-int of type 'numpy.float64'",
     "output_type": "error",
     "traceback": [
      "\u001b[1;31m---------------------------------------------------------------------------\u001b[0m",
      "\u001b[1;31mTypeError\u001b[0m                                 Traceback (most recent call last)",
      "\u001b[1;32m<ipython-input-49-08d4576a81cb>\u001b[0m in \u001b[0;36m<module>\u001b[1;34m\u001b[0m\n\u001b[1;32m----> 1\u001b[1;33m \u001b[0mslope\u001b[0m\u001b[1;33m*\u001b[0m\u001b[0mx\u001b[0m\u001b[1;33m\u001b[0m\u001b[1;33m\u001b[0m\u001b[0m\n\u001b[0m",
      "\u001b[1;31mTypeError\u001b[0m: can't multiply sequence by non-int of type 'numpy.float64'"
     ]
    }
   ],
   "source": [
    "slope*x"
   ]
  },
  {
   "cell_type": "code",
   "execution_count": 50,
   "metadata": {},
   "outputs": [
    {
     "data": {
      "text/plain": [
       "0.019734111992620314"
      ]
     },
     "execution_count": 50,
     "metadata": {},
     "output_type": "execute_result"
    }
   ],
   "source": [
    "slope"
   ]
  },
  {
   "cell_type": "code",
   "execution_count": null,
   "metadata": {},
   "outputs": [],
   "source": []
  }
 ],
 "metadata": {
  "kernelspec": {
   "display_name": "Python 3",
   "language": "python",
   "name": "python3"
  },
  "language_info": {
   "codemirror_mode": {
    "name": "ipython",
    "version": 3
   },
   "file_extension": ".py",
   "mimetype": "text/x-python",
   "name": "python",
   "nbconvert_exporter": "python",
   "pygments_lexer": "ipython3",
   "version": "3.7.6"
  }
 },
 "nbformat": 4,
 "nbformat_minor": 4
}

{
 "cells": [
  {
   "cell_type": "markdown",
   "metadata": {},
   "source": [
    "This notebook examines whether the pre-distraction pause has an effect on either photometry response to distractors or if it is related to the post-distraction pause. The first figures show, for each rat, the average photometry response on distraction trials when the pre-distraction pause was >5s (left) vs those when the pre-distraction pause was >5s (right). There does not appear to be a large difference - at least based on the mean. (NB all this analysis is perfomred on distraction day when distractors were present.\n",
    "\n",
    "Below, I have regressed pre-distraction pause against post-distraction pause (collapsing all trials from all rats) and find no relationship.\n",
    "\n",
    "At the end is a comparison of the pre-distraction pause on distracted and not distracted trials. There is no statistical difference when assessed with a paired t-text."
   ]
  },
  {
   "cell_type": "code",
   "execution_count": 1,
   "metadata": {},
   "outputs": [],
   "source": [
    "import dill\n",
    "import matplotlib.pyplot as plt\n",
    "import matplotlib as mpl\n",
    "import matplotlib.transforms as transforms\n",
    "from matplotlib.backends.backend_pdf import PdfPages\n",
    "import numpy as np\n",
    "\n",
    "import trompy as tp\n",
    "\n",
    "%matplotlib inline\n",
    "\n",
    "# %run \"..//JM_custom_figs.py\""
   ]
  },
  {
   "cell_type": "code",
   "execution_count": 2,
   "metadata": {},
   "outputs": [],
   "source": [
    "# fig settings\n",
    "scattersize=50"
   ]
  },
  {
   "cell_type": "code",
   "execution_count": 3,
   "metadata": {},
   "outputs": [],
   "source": [
    "datafolder = \"C:\\\\Github\\\\Distraction-Paper\\\\data\\\\\"\n",
    "figfolder = \"C:\\\\Github\\\\Distraction-Paper\\\\figs\\\\\"\n",
    "outputfolder = \"C:\\\\Github\\\\Distraction-Paper\\\\output\\\\\"\n",
    "\n",
    "try:\n",
    "    pickle_in = open(datafolder + \"distraction_data_only_snips.pickle\", 'rb')\n",
    "except FileNotFoundError:\n",
    "        print('Cannot access pickled file')\n",
    "\n",
    "[modDict, disDict, habDict] = dill.load(pickle_in)"
   ]
  },
  {
   "cell_type": "code",
   "execution_count": 6,
   "metadata": {},
   "outputs": [
    {
     "data": {
      "text/plain": [
       "dict_keys(['rat', 'fs', 'tick', 'filt_sd', 'licks', 'licks_off', 'distractors', 'distracted', 'notdistracted', 'd_bool_array', 'pdp', 'pre_dp', 'lickdata', 'snips_distractors', 'snips_distracted', 'snips_not-distracted'])"
      ]
     },
     "execution_count": 6,
     "metadata": {},
     "output_type": "execute_result"
    }
   ],
   "source": [
    "rat = 'thph1.1'\n",
    "d = disDict[rat]\n",
    "d.keys()"
   ]
  },
  {
   "cell_type": "code",
   "execution_count": 7,
   "metadata": {},
   "outputs": [],
   "source": [
    "long_pre_dp_snips = []\n",
    "short_pre_dp_snips = []\n",
    "\n",
    "rats = disDict.keys()\n",
    "for rat in rats:\n",
    "    d = disDict[rat]\n",
    "    L_predp = np.array([pre_dp > 5 for pre_dp in d['pre_dp']], dtype=bool)\n",
    "\n",
    "    long_pre_dp_snips.append(np.mean([snip for snip, L in zip(d['snips_distractors']['filt_z'],\n",
    "                                         L_predp) if L], axis=0))\n",
    "    short_pre_dp_snips.append(np.mean([snip for snip, L in zip(d['snips_distractors']['filt_z'],\n",
    "                                     L_predp) if not L], axis=0))"
   ]
  },
  {
   "cell_type": "code",
   "execution_count": 8,
   "metadata": {},
   "outputs": [],
   "source": [
    "f, ax = plt.subplots(ncols=3, figsize=(12,5), sharey=True)\n",
    "for avgsnip in long_pre_dp_snips:\n",
    "    ax[0].plot(avgsnip, color='k', alpha=0.2)\n",
    "ax[0].plot(np.mean(long_pre_dp_snips, axis=0), color='k', linewidth=2)\n",
    "\n",
    "for avgsnip in short_pre_dp_snips:\n",
    "    ax[1].plot(avgsnip, color='k', alpha=0.2)\n",
    "ax[1].plot(np.mean(short_pre_dp_snips, axis=0), color='k', linewidth=2)\n",
    "\n",
    "ax[0].set_ylabel('Z-score')\n",
    "\n",
    "for axis in [ax[0], ax[1]]:\n",
    "    xticks=[0, 50, 100, 150, 200]\n",
    "    axis.set_xticks(xticks)\n",
    "    axis.set_xticklabels([str(x/10-5) for x in xticks])\n",
    "    axis.set_xlabel('Time from distractor (s)')\n",
    "    axis.spines['top'].set_visible(False)\n",
    "    axis.spines['right'].set_visible(False)\n",
    "\n",
    "peak_data = []\n",
    "peak_data.append([np.max(snip[50:80]) for snip in long_pre_dp_snips])\n",
    "peak_data.append([np.max(snip[50:80]) for snip in short_pre_dp_snips])\n",
    "barscatter(peak_data, ax=ax[2], paired=True, barfacecolor=['white', 'xkcd:light grey'], barfacecoloroption = 'individual')\n",
    "\n",
    "ax[2].set_xticks([1,2])\n",
    "ax[2].set_xticklabels(['Long', 'Short'])\n",
    "ax[2].set_title('Peak Z-score')\n",
    "    \n",
    "ax[0].set_title('Long pre-dps')\n",
    "ax[1].set_title('Short pre-dps')\n",
    "\n",
    "f.savefig(outputfolder + \"short-vs-long predps.png\")"
   ]
  },
  {
   "cell_type": "code",
   "execution_count": 9,
   "metadata": {},
   "outputs": [],
   "source": [
    "all_pre_dps = []\n",
    "all_post_dps =[]\n",
    "\n",
    "rats = disDict.keys()\n",
    "for rat in rats:\n",
    "    d = disDict[rat]\n",
    "    all_pre_dps.append(d['pre_dp'])\n",
    "    all_post_dps.append(d['pdp'])\n",
    "    \n",
    "all_pre_dps = tp.flatten_list(all_pre_dps)\n",
    "all_post_dps = tp.flatten_list(all_post_dps)"
   ]
  },
  {
   "cell_type": "code",
   "execution_count": 10,
   "metadata": {},
   "outputs": [],
   "source": [
    "\n",
    "\n",
    "x = all_pre_dps\n",
    "y = all_post_dps\n",
    "\n",
    "coef = np.polyfit(x,y,1)\n",
    "poly1d_fn = np.poly1d(coef) \n",
    "\n",
    "f, ax = plt.subplots(figsize=(6,6))\n",
    "\n",
    "#ax.scatter(x, y)\n",
    "ax.plot(x,y, 'yo', x, poly1d_fn(x), '--k')\n",
    "# ax.set_yscale('log')\n",
    "# ax.set_xscale('log')\n",
    "\n",
    "ax.set_xlabel('Pre-distraction pauses (s)')\n",
    "ax.set_ylabel('Post-distraction pauses (s)')\n",
    "\n",
    "f.savefig(outputfolder + \"predps-vs-postdps.png\")\n"
   ]
  },
  {
   "cell_type": "code",
   "execution_count": 11,
   "metadata": {},
   "outputs": [
    {
     "data": {
      "text/plain": [
       "LinregressResult(slope=0.007618716364670469, intercept=18.81412605884071, rvalue=0.011331495932338636, pvalue=0.7581223849372338, stderr=0.02473115817489556)"
      ]
     },
     "execution_count": 11,
     "metadata": {},
     "output_type": "execute_result"
    }
   ],
   "source": [
    "from scipy.stats import linregress\n",
    "linregress(x,y)"
   ]
  },
  {
   "cell_type": "code",
   "execution_count": 4,
   "metadata": {},
   "outputs": [],
   "source": [
    "pre_dps_distracted = []\n",
    "pre_dps_notdistracted =[]\n",
    "\n",
    "rats = disDict.keys()\n",
    "for rat in rats:\n",
    "    d = disDict[rat]\n",
    "    \n",
    "    pre_dps = [x for x, L in zip(d['pre_dp'], d[\"d_bool_array\"]) if not L]\n",
    "    pre_dps_notdistracted.append(np.mean(pre_dps))\n",
    "    \n",
    "    pre_dps = [x for x, L in zip(d['pre_dp'], d[\"d_bool_array\"]) if L]\n",
    "    pre_dps_distracted.append(np.mean(pre_dps))\n"
   ]
  },
  {
   "cell_type": "code",
   "execution_count": 5,
   "metadata": {},
   "outputs": [
    {
     "data": {
      "image/png": "[encoded data removed]",
      "text/plain": [
       "<Figure size 216x216 with 1 Axes>"
      ]
     },
     "metadata": {
      "needs_background": "light"
     },
     "output_type": "display_data"
    }
   ],
   "source": [
    "f, ax = plt.subplots(figsize=(3,3))\n",
    "f.subplots_adjust(left=0.4)\n",
    "_, barx, _, _ = tp.barscatter([pre_dps_notdistracted, pre_dps_distracted], paired=True,\n",
    "            barfacecolor=[\"grey\", \"red\"], barfacecoloroption='individual',\n",
    "            barlabels=['Not dis', 'Dis'],\n",
    "#            barlabeloffset=-0.04,\n",
    "           scattersize=scattersize,\n",
    "           ax=ax)\n",
    "\n",
    "ax.set_ylabel(\"Pre-distraction pause\")\n",
    "# ax.set_ylim([-0.05, 1.1])\n",
    "\n",
    "f.savefig(figfolder + \"pre-dps_bar.pdf\")"
   ]
  },
  {
   "cell_type": "code",
   "execution_count": 28,
   "metadata": {},
   "outputs": [
    {
     "name": "stdout",
     "output_type": "stream",
     "text": [
      "Pre-distraction pause on not distracted trials is  (27.09766153762237, 6.3036937820589936)\n",
      "Pre-distraction pause on distracted trials is  (40.715433266782604, 5.349025459382006)\n",
      "Ttest_relResult(statistic=1.3541045074093196, pvalue=0.19877449969477584)\n"
     ]
    }
   ],
   "source": [
    "from scipy.stats import ttest_rel as ttest\n",
    "\n",
    "\n",
    "print(\"Pre-distraction pause on not distracted trials is \", tp.mean_and_sem(pre_dps_notdistracted))\n",
    "print(\"Pre-distraction pause on distracted trials is \", tp.mean_and_sem(pre_dps_distracted))\n",
    "\n",
    "print(ttest(pre_dps_distracted, pre_dps_notdistracted))"
   ]
  },
  {
   "cell_type": "code",
   "execution_count": null,
   "metadata": {},
   "outputs": [],
   "source": []
  }
 ],
 "metadata": {
  "kernelspec": {
   "display_name": "Python 3",
   "language": "python",
   "name": "python3"
  },
  "language_info": {
   "codemirror_mode": {
    "name": "ipython",
    "version": 3
   },
   "file_extension": ".py",
   "mimetype": "text/x-python",
   "name": "python",
   "nbconvert_exporter": "python",
   "pygments_lexer": "ipython3",
   "version": "3.7.6"
  }
 },
 "nbformat": 4,
 "nbformat_minor": 4
}

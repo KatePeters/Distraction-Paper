{
 "cells": [
  {
   "cell_type": "code",
   "execution_count": 1,
   "metadata": {},
   "outputs": [
    {
     "name": "stderr",
     "output_type": "stream",
     "text": [
      "C:\\Github\\Distraction-Paper\\JM_custom_figs.py:11: DeprecationWarning: Using or importing the ABCs from 'collections' instead of from 'collections.abc' is deprecated since Python 3.3,and in 3.9 it will stop working\n",
      "  from collections import Sequence\n"
     ]
    }
   ],
   "source": [
    "import dill\n",
    "import matplotlib.pyplot as plt\n",
    "import matplotlib as mpl\n",
    "import matplotlib.transforms as transforms\n",
    "import numpy as np\n",
    "import csv\n",
    "from scipy import stats\n",
    "\n",
    "%run ..//JM_custom_figs.py"
   ]
  },
  {
   "cell_type": "code",
   "execution_count": 2,
   "metadata": {},
   "outputs": [],
   "source": [
    "datafolder = \"C:\\\\Github\\\\Distraction-Paper\\\\data\\\\\"\n",
    "figfolder = \"C:\\\\Github\\\\Distraction-Paper\\\\figs\\\\\"\n",
    "statsfolder = \"C:\\\\Github\\\\Distraction-Paper\\\\stats\\\\\"\n",
    "\n",
    "try:\n",
    "    pickle_in = open(datafolder + \"distraction_data_only_snips.pickle\", 'rb')\n",
    "except FileNotFoundError:\n",
    "        print('Cannot access pickled file')\n",
    "\n",
    "[modDict, disDict, habDict] = dill.load(pickle_in)"
   ]
  },
  {
   "cell_type": "code",
   "execution_count": 3,
   "metadata": {},
   "outputs": [
    {
     "data": {
      "text/plain": [
       "''"
      ]
     },
     "execution_count": 3,
     "metadata": {},
     "output_type": "execute_result"
    }
   ],
   "source": [
    "# thph2.8 removed from analysis because no data on habituation day\n",
    "\n",
    "modDict.pop('thph2.8')\n",
    "disDict.pop('thph2.8')\n",
    ";"
   ]
  },
  {
   "cell_type": "code",
   "execution_count": 4,
   "metadata": {},
   "outputs": [],
   "source": [
    "for day in [modDict, disDict, habDict]:\n",
    "    rats = day.keys()\n",
    "    for rat in rats:\n",
    "        d = day[rat]\n",
    "        # check that numbers add up\n",
    "        d ['#ds'] =len(d['distractors'])\n",
    "        d ['#distracted'] =len(d['distracted'])\n",
    "        d ['#not-dis'] =len(d['notdistracted'])   \n",
    "        if d['#not-dis'] + d['#distracted'] == d['#ds']:\n",
    "            d['prob-distracted'] = d['#distracted'] / d['#ds']\n",
    "        else:\n",
    "            print(\"Something wrong in the number of distracted and non-distracted trials\")\n"
   ]
  },
  {
   "cell_type": "code",
   "execution_count": 5,
   "metadata": {},
   "outputs": [],
   "source": [
    "probdisMod, probdisDis, probdisHab = [], [], []\n",
    "for day, output in zip([modDict, disDict, habDict],\n",
    "                      [probdisMod, probdisDis, probdisHab]):\n",
    "    rats = day.keys()\n",
    "    for rat in rats:\n",
    "        d = day[rat]\n",
    "        output.append(d['prob-distracted'])"
   ]
  },
  {
   "cell_type": "code",
   "execution_count": 53,
   "metadata": {},
   "outputs": [
    {
     "data": {
      "image/png": "[encoded data removed]",
      "text/plain": [
       "<Figure size 144x216 with 1 Axes>"
      ]
     },
     "metadata": {
      "needs_background": "light"
     },
     "output_type": "display_data"
    }
   ],
   "source": [
    "colors = ['darkturquoise','dodgerblue', 'darkblue']\n",
    "\n",
    "f, ax = plt.subplots(figsize=(2,3))\n",
    "f.subplots_adjust(left=0.4)\n",
    "barscatter([probdisMod, probdisDis, probdisHab], paired=True,\n",
    "           barfacecolor=colors, barfacecoloroption='individual',\n",
    "           ax=ax)\n",
    "\n",
    "ax.set_ylabel('Probability of distraction')\n",
    "ax.set_xticks([1,2,3])\n",
    "ax.set_xticklabels(['Mod', 'Dis', 'Hab'])\n",
    "ax.set_ylim([-0.1, 1.1])\n",
    "\n",
    "f.savefig(figfolder+\"fig2_probability of distraction.pdf\")"
   ]
  },
  {
   "cell_type": "code",
   "execution_count": 56,
   "metadata": {},
   "outputs": [
    {
     "name": "stdout",
     "output_type": "stream",
     "text": [
      "Mean: 0.035736657778564794, SEM: 0.010063763058217283\n",
      "Mean: 0.48438394306147653, SEM: 0.0686893248420231\n",
      "Mean: 0.23832920617079603, SEM: 0.06087197101162473\n",
      "Mod vs. Dis - t-stat: 6.4, corrected p: 0.0001\n",
      "Dis vs. Hab - t-stat: 5.5, corrected p: 0.0004\n",
      "Mod vs. Hab - t-stat: 3.4, corrected p: 0.0170\n"
     ]
    }
   ],
   "source": [
    "# Stats for probability of distraction across days\n",
    "def mean_and_sem(data):\n",
    "    print(f\"Mean: {np.mean(data)}, SEM: {np.std(data)/(np.sqrt(np.size(data)))}\")\n",
    "\n",
    "def bonferroni_corrected_ttest(data1, data2, comps=3, string_prefix=\"\"):\n",
    "    t, p = stats.ttest_rel(data1, data2)\n",
    "    print(f\"{string_prefix}t-stat: {np.abs(t):03.1f}, corrected p: {p*comps:03.4f}\")\n",
    "\n",
    "with open(statsfolder+'percent_distracted.csv', 'w', newline='') as csvfile:\n",
    "    writer = csv.writer(csvfile, delimiter=',')\n",
    "    for m, d, h in zip(probdisMod, probdisDis, probdisHab):\n",
    "        writer.writerow([m, d, h])\n",
    "\n",
    "# One-way ANOVA conducted in SPSS with this csv file\n",
    "\n",
    "# these lines print mean and SEM for reporting and calculate Bonferroni posthocs\n",
    "for data in [probdisMod, probdisDis, probdisHab]:\n",
    "    mean_and_sem(data)\n",
    "    \n",
    "bonferroni_corrected_ttest(probdisMod, probdisDis, string_prefix=\"Mod vs. Dis - \")\n",
    "bonferroni_corrected_ttest(probdisDis, probdisHab, string_prefix=\"Dis vs. Hab - \")\n",
    "bonferroni_corrected_ttest(probdisMod, probdisHab, string_prefix=\"Mod vs. Hab - \")"
   ]
  },
  {
   "cell_type": "code",
   "execution_count": 119,
   "metadata": {},
   "outputs": [],
   "source": [
    "def distractionrasterFig(ax, timelock, events,\n",
    "                         pre = 1, post = 1,\n",
    "                         sortevents=None, sortdirection='ascending',\n",
    "                         title=''):\n",
    "\n",
    "    if sortevents != None:\n",
    "        if len(timelock) != len(sortevents):\n",
    "            print('Length of sort events does not match timelock events; no sorting')\n",
    "\n",
    "        if len(timelock) == (len(sortevents) + 1):\n",
    "            sortevents.append(0)\n",
    "            \n",
    "            if sortdirection == 'ascending':\n",
    "                sortOrder = np.argsort(sortevents)\n",
    "            else:\n",
    "                sortOrder = np.argsort(sortevents)[::-1]\n",
    "                \n",
    "            timelock = [timelock[i] for i in sortOrder]    \n",
    "        else:\n",
    "            if sortdirection == 'ascending':\n",
    "                sortOrder = np.argsort(sortevents)\n",
    "            else:\n",
    "                sortOrder = np.argsort(sortevents)[::-1]\n",
    "                \n",
    "            timelock = [timelock[i] for i in sortOrder]\n",
    "    \n",
    "    rasterData = [[] for i in timelock]\n",
    "    \n",
    "    for i,x in enumerate(timelock):\n",
    "        rasterData[i] = [j-x for j in events if (j > x-pre) & (j < x+post)]\n",
    " \n",
    "    for ith, trial in enumerate(rasterData):\n",
    "\n",
    "        xvals = [x for x in trial] \n",
    "        yvals = [1+ith] * len(xvals)\n",
    "        \n",
    "        pdplist = [lick for lick in xvals if lick > 0 and lick < 1]\n",
    "        if len(pdplist) > 0:\n",
    "            ax.scatter(xvals, yvals, marker='|', s=1, linewidths=0.5, color='k')\n",
    "        else:\n",
    "            ax.scatter(xvals, yvals, marker='|', s=1, color='xkcd:light blue')\n",
    "    \n",
    "    ax.set_title(title)"
   ]
  },
  {
   "cell_type": "code",
   "execution_count": 120,
   "metadata": {},
   "outputs": [],
   "source": [
    "def scalebar4raster(ax, length=1, offset=1, ypos=0):\n",
    "    \n",
    "    # Turns off bottom axis and x ticks\n",
    "    ax.spines['bottom'].set_visible(False)\n",
    "    ax.set_xticks([])\n",
    "    \n",
    "    # Gets x coordinates for scale bar\n",
    "    xmin=ax.get_xlim()[0]\n",
    "    x0=xmin+offset\n",
    "    x1=xmin+offset+length\n",
    "    \n",
    "    # Sets up a transform for x in data coords and y in axis coords\n",
    "    trans = transforms.blended_transform_factory(\n",
    "    ax.transData, ax.transAxes)\n",
    "\n",
    "    # Plots line using x and y and transform\n",
    "    line = mpl.lines.Line2D([x0, x1], [ypos, ypos], lw=2., color='k', transform=trans)\n",
    "    line.set_clip_on(False)\n",
    "    ax.add_line(line)\n",
    "    \n",
    "    # Adds text below line\n",
    "    ax.text((x1-length/2), ypos-0.02, '{} s'.format(length), va='top', ha='center', transform=trans)\n",
    "    \n",
    "    # Adds triangle to show distractor\n",
    "    ax.plot(0, 1., marker=\"v\", markersize=6, color='grey', clip_on=False, transform=trans)"
   ]
  },
  {
   "cell_type": "code",
   "execution_count": 132,
   "metadata": {},
   "outputs": [
    {
     "data": {
      "image/png": "[encoded data removed]",
      "text/plain": [
       "<Figure size 504x144 with 3 Axes>"
      ]
     },
     "metadata": {
      "needs_background": "light"
     },
     "output_type": "display_data"
    }
   ],
   "source": [
    "rat='thph1.4'\n",
    "\n",
    "f, ax = plt.subplots(ncols=3, figsize=(7,2))\n",
    "f.subplots_adjust(left=0.1)\n",
    "\n",
    "d=modDict[rat]\n",
    "rasterPlot = distractionrasterFig(ax[0],\n",
    "                                  d['distractors'],\n",
    "                                  d['licks'],\n",
    "                                  pre=5, post=10, sortevents=d['pdp'], sortdirection='dec',\n",
    "                                  title='Modelled')\n",
    "\n",
    "d=disDict[rat]\n",
    "rasterPlot = distractionrasterFig(ax[1],\n",
    "                                  d['distractors'],\n",
    "                                  d['licks'],\n",
    "                                  pre=5, post=10, sortevents=d['pdp'], sortdirection='dec',\n",
    "                                  title='Distraction')\n",
    "\n",
    "d=habDict[rat]\n",
    "rasterPlot = distractionrasterFig(ax[2],\n",
    "                                  d['distractors'],\n",
    "                                  d['licks'],\n",
    "                                  pre=5, post=10, sortevents=d['pdp'], sortdirection='dec',\n",
    "                                  title='Habituation')\n",
    "\n",
    "ax[0].set_ylabel('Sorted trials')\n",
    "\n",
    "for axis in ax:\n",
    "    #axis.set_xlabel('Time from distractor (s)')\n",
    "    axis.spines['right'].set_visible(False)\n",
    "    axis.spines['top'].set_visible(False)\n",
    "    scalebar4raster(axis)\n",
    "\n",
    "f.savefig(figfolder+\"fig2_raster plots.pdf\")"
   ]
  },
  {
   "cell_type": "code",
   "execution_count": 7,
   "metadata": {},
   "outputs": [],
   "source": [
    "pdpsMod, pdpsDis, pdpsHab = [], [], []\n",
    "pdpsMod_all, pdpsDis_all, pdpsHab_all = [], [], []\n",
    "for day, output, output_all in zip([modDict, disDict, habDict],\n",
    "                                  [pdpsMod, pdpsDis, pdpsHab],\n",
    "                                  [pdpsMod_all, pdpsDis_all, pdpsHab_all]):\n",
    "    rats = day.keys()\n",
    "    for rat in rats:\n",
    "        d = day[rat]\n",
    "        \n",
    "        # raw PDPs\n",
    "        pdps = d['pdp']\n",
    "        \n",
    "        # log PDPs - comment out for raw PDPs\n",
    "        pdps = np.log10(d['pdp'])\n",
    "        \n",
    "        output.append(np.mean(pdps))\n",
    "        output_all.append(pdps)"
   ]
  },
  {
   "cell_type": "code",
   "execution_count": 131,
   "metadata": {},
   "outputs": [
    {
     "data": {
      "image/png": "[encoded data removed]",
      "text/plain": [
       "<Figure size 144x216 with 1 Axes>"
      ]
     },
     "metadata": {
      "needs_background": "light"
     },
     "output_type": "display_data"
    }
   ],
   "source": [
    "        \n",
    "f, ax = plt.subplots(figsize=(2,3))\n",
    "f.subplots_adjust(left=0.4)\n",
    "barscatter([pdpsMod, pdpsDis, pdpsHab], paired=True,\n",
    "           barfacecolor=colors, barfacecoloroption='individual',\n",
    "           barlabels=['Mod', 'Dis', 'Hab'],\n",
    "           barlabeloffset=0.35,\n",
    "           ax=ax)\n",
    "\n",
    "ax.set_ylabel('Post-distraction pause (s)')\n",
    "ax.set_xticks([])\n",
    "# ax.set_xticklabels(['Mod', 'Dis', 'Hab'])\n",
    "\n",
    "ax.set_yticks([-1, 0, 1, 2])\n",
    "ax.set_yticklabels(['0.1', '1', '10', '100'])\n",
    "ax.set_ylim([-1.1, 1.5])\n",
    "\n",
    "# for xpos, label in \n",
    "\n",
    "f.savefig(figfolder+\"fig2_pdps.pdf\")"
   ]
  },
  {
   "cell_type": "code",
   "execution_count": 77,
   "metadata": {},
   "outputs": [
    {
     "name": "stdout",
     "output_type": "stream",
     "text": [
      "Mean: -0.7467827540034992, SEM: 0.030228347249829764\n",
      "Mean: 0.13144915966881537, SEM: 0.1435405525481379\n",
      "Mean: -0.2538688896811673, SEM: 0.14487316625592184\n",
      "Mod vs. Dis - t-stat: 5.8, corrected p: 0.0002\n",
      "Dis vs. Hab - t-stat: 4.9, corrected p: 0.0010\n",
      "Mod vs. Hab - t-stat: 3.3, corrected p: 0.0177\n"
     ]
    }
   ],
   "source": [
    "with open(statsfolder+'log_pdp.csv', 'w', newline='') as csvfile:\n",
    "    writer = csv.writer(csvfile, delimiter=',')\n",
    "    for m, d, h in zip(pdpsMod, pdpsDis, pdpsHab):\n",
    "        writer.writerow([m, d, h])\n",
    "        \n",
    "# One-way ANOVA conducted in SPSS with this csv file\n",
    "\n",
    "# these lines print mean and SEM for reporting and calculate Bonferroni posthocs\n",
    "for data in [pdpsMod, pdpsDis, pdpsHab]:\n",
    "    mean_and_sem(data)\n",
    "    \n",
    "bonferroni_corrected_ttest(pdpsMod, pdpsDis, string_prefix=\"Mod vs. Dis - \")\n",
    "bonferroni_corrected_ttest(pdpsDis, pdpsHab, string_prefix=\"Dis vs. Hab - \")\n",
    "bonferroni_corrected_ttest(pdpsMod, pdpsHab, string_prefix=\"Mod vs. Hab - \")"
   ]
  },
  {
   "cell_type": "code",
   "execution_count": 20,
   "metadata": {},
   "outputs": [
    {
     "data": {
      "text/plain": [
       "(array([ 0,  0,  0,  0,  0,  0,  0,  0,  0,  0,  0, 13, 13,  1,  1,  5,  6,\n",
       "         0,  1,  1,  0,  1,  3,  3,  0,  1,  2,  7,  2,  5,  4,  2,  2,  0,\n",
       "         0,  2,  2,  0,  1,  0,  2,  1,  0,  0,  0,  0,  0,  1,  0,  0,  0],\n",
       "       dtype=int64),\n",
       " array([-2.10000000e+00, -2.00000000e+00, -1.90000000e+00, -1.80000000e+00,\n",
       "        -1.70000000e+00, -1.60000000e+00, -1.50000000e+00, -1.40000000e+00,\n",
       "        -1.30000000e+00, -1.20000000e+00, -1.10000000e+00, -1.00000000e+00,\n",
       "        -9.00000000e-01, -8.00000000e-01, -7.00000000e-01, -6.00000000e-01,\n",
       "        -5.00000000e-01, -4.00000000e-01, -3.00000000e-01, -2.00000000e-01,\n",
       "        -1.00000000e-01,  1.77635684e-15,  1.00000000e-01,  2.00000000e-01,\n",
       "         3.00000000e-01,  4.00000000e-01,  5.00000000e-01,  6.00000000e-01,\n",
       "         7.00000000e-01,  8.00000000e-01,  9.00000000e-01,  1.00000000e+00,\n",
       "         1.10000000e+00,  1.20000000e+00,  1.30000000e+00,  1.40000000e+00,\n",
       "         1.50000000e+00,  1.60000000e+00,  1.70000000e+00,  1.80000000e+00,\n",
       "         1.90000000e+00,  2.00000000e+00,  2.10000000e+00,  2.20000000e+00,\n",
       "         2.30000000e+00,  2.40000000e+00,  2.50000000e+00,  2.60000000e+00,\n",
       "         2.70000000e+00,  2.80000000e+00,  2.90000000e+00,  3.00000000e+00]))"
      ]
     },
     "execution_count": 20,
     "metadata": {},
     "output_type": "execute_result"
    }
   ],
   "source": [
    "\n",
    "\n",
    "bins = np.arange(-2.1, 3.1, 0.1)\n",
    "\n",
    "\n",
    "np.histogram(pdpsDis_all[0], bins=bins)\n"
   ]
  },
  {
   "cell_type": "code",
   "execution_count": 57,
   "metadata": {},
   "outputs": [
    {
     "data": {
      "image/png": "[encoded data removed]",
      "text/plain": [
       "<Figure size 187.2x151.2 with 1 Axes>"
      ]
     },
     "metadata": {
      "needs_background": "light"
     },
     "output_type": "display_data"
    }
   ],
   "source": [
    "def plot_cumulative_pdps(ax, pdps, bins, plot_all_data=True, color='k'):\n",
    "    \n",
    "    cumulative_sum = []\n",
    "    for data in pdps:\n",
    "        binned_data, _ = np.histogram(data, bins=bins, density=True)\n",
    "        binned_data = np.divide(binned_data, 10) # divides to get probability from 0 to 1 (because bins are only 0.1s)\n",
    "        cumsum_data = np.cumsum(binned_data)\n",
    "        cumulative_sum.append(cumsum_data)\n",
    "        if plot_all_data:\n",
    "            ax.plot(bins[:-1], cumsum_data, color=color, alpha=0.1)\n",
    "            \n",
    "    ax.plot(bins[:-1], np.mean(cumulative_sum, axis=0), color=color)\n",
    "    \n",
    "#     shadedError(ax, cumulative_sum, linecolor=color)\n",
    "\n",
    "    ax.set_xlim([-1.5, 2.3])\n",
    "    ax.set_xticks([-1, 0, 1, 2])\n",
    "    ax.set_xticklabels(['0.1', '1', '10', '100'])\n",
    "    ax.set_xlabel('Post-distraction pause (s)')\n",
    "    \n",
    "    ax.set_ylabel('Probability')\n",
    "    ax.set_yticks([0, 1])\n",
    "    ax.set_yticklabels(['0', '1'])\n",
    "    \n",
    "    ax.spines['top'].set_visible(False)\n",
    "    ax.spines['right'].set_visible(False)\n",
    "        \n",
    "\n",
    "colors = ['darkturquoise','dodgerblue', 'darkblue'] \n",
    "bins = np.arange(-2.1, 3.1, 0.1)\n",
    "\n",
    "f, ax = plt.subplots(figsize=(2.6, 2.1))\n",
    "f.subplots_adjust(left=0.15, bottom=0.2, right=0.95, top=0.95)\n",
    "\n",
    "plot_cumulative_pdps(ax, pdpsMod_all, bins, color=colors[0])\n",
    "plot_cumulative_pdps(ax, pdpsDis_all, bins, color=colors[1])\n",
    "plot_cumulative_pdps(ax, pdpsHab_all, bins, color=colors[2])\n",
    "\n",
    "ax.text(1, 0.4, 'Modelled', transform=ax.transAxes, ha='right', color=colors[0])\n",
    "ax.text(1, 0.3, 'Distraction', transform=ax.transAxes, ha='right', color=colors[1])\n",
    "ax.text(1, 0.2, 'Habituation', transform=ax.transAxes, ha='right', color=colors[2])\n",
    "        \n",
    "f.savefig(figfolder+\"fig1_cumulative_pdps.pdf\")\n"
   ]
  },
  {
   "cell_type": "code",
   "execution_count": null,
   "metadata": {},
   "outputs": [],
   "source": []
  },
  {
   "cell_type": "code",
   "execution_count": 9,
   "metadata": {},
   "outputs": [],
   "source": [
    "# code to calculate average PDP on distraction day\n",
    "\n",
    "long_pdps = []\n",
    "avg_long_pdps = []\n",
    "\n",
    "rats = day.keys()\n",
    "for rat in rats:\n",
    "    d=disDict[rat]\n",
    "    pdps = [pdp for pdp, L in zip(d['pdp'], d['d_bool_array']) if L]\n",
    "    long_pdps.append(pdps)\n",
    "    avg_long_pdps.append(np.mean(pdps))\n",
    "    \n",
    "    \n",
    "\n"
   ]
  },
  {
   "cell_type": "code",
   "execution_count": 10,
   "metadata": {},
   "outputs": [
    {
     "data": {
      "text/plain": [
       "[26.80658269658538,\n",
       " 22.59749770491803,\n",
       " 92.06218751999998,\n",
       " 28.744877292307688,\n",
       " 34.731263512380984,\n",
       " 14.806735725714296,\n",
       " 15.369972394666679,\n",
       " 212.79590399999995,\n",
       " 72.26436095999998,\n",
       " 23.78252288000003,\n",
       " 90.34890752,\n",
       " 32.32661007515151,\n",
       " 34.68272786285714]"
      ]
     },
     "execution_count": 10,
     "metadata": {},
     "output_type": "execute_result"
    }
   ],
   "source": [
    "avg_long_pdps"
   ]
  },
  {
   "cell_type": "code",
   "execution_count": 6,
   "metadata": {},
   "outputs": [],
   "source": [
    "# code to work out if pre_dp is different on distracted and distraction trials\n",
    "mean_pre_dp = []\n",
    "\n",
    "rats = disDict.keys()\n",
    "for rat in rats:\n",
    "    d=disDict[rat]\n",
    "    distracted_predp = np.mean([pre_dp for pre_dp, L in zip(d['pre_dp'], d['d_bool_array']) if L])\n",
    "    notdistracted_predp = np.mean([pre_dp for pre_dp, L in zip(d['pre_dp'], d['d_bool_array']) if not L])\n",
    "    mean_pre_dp.append([distracted_predp, notdistracted_predp])\n",
    "#     pdps = [pdp for pdp, L in zip(d['pdp'], d['d_bool_array']) if L]\n",
    "#     long_pdps.append(pdps)\n",
    "#     avg_long_pdps.append(np.mean(pdps))"
   ]
  },
  {
   "cell_type": "code",
   "execution_count": 11,
   "metadata": {},
   "outputs": [
    {
     "data": {
      "text/plain": [
       "(<matplotlib.axes._subplots.AxesSubplot at 0x2619b415708>,\n",
       " [1, 2],\n",
       " [<BarContainer object of 1 artists>, <BarContainer object of 1 artists>],\n",
       " [[<matplotlib.lines.Line2D at 0x2619b44dd88>],\n",
       "  [<matplotlib.lines.Line2D at 0x2619b456c48>],\n",
       "  [<matplotlib.lines.Line2D at 0x2619b3683c8>],\n",
       "  [<matplotlib.lines.Line2D at 0x2619b471948>],\n",
       "  [<matplotlib.lines.Line2D at 0x2619b471fc8>],\n",
       "  [<matplotlib.lines.Line2D at 0x2619b47a688>],\n",
       "  [<matplotlib.lines.Line2D at 0x2619b47af08>],\n",
       "  [<matplotlib.lines.Line2D at 0x2619b471448>],\n",
       "  [<matplotlib.lines.Line2D at 0x2619b760988>],\n",
       "  [<matplotlib.lines.Line2D at 0x2619b7600c8>],\n",
       "  [<matplotlib.lines.Line2D at 0x2619b47a188>],\n",
       "  [<matplotlib.lines.Line2D at 0x2619b760f88>],\n",
       "  [<matplotlib.lines.Line2D at 0x2619b76d208>],\n",
       "  [<matplotlib.lines.Line2D at 0x2619b76d848>]])"
      ]
     },
     "execution_count": 11,
     "metadata": {},
     "output_type": "execute_result"
    },
    {
     "data": {
      "image/png": "[encoded data removed]",
      "text/plain": [
       "<Figure size 432x288 with 1 Axes>"
      ]
     },
     "metadata": {
      "needs_background": "light"
     },
     "output_type": "display_data"
    }
   ],
   "source": [
    "# mean_pre_dp\n",
    "# plt.bar([1,2], [np.mean([dp[0] for dp in mean_pre_dp]), np.mean([dp[1] for dp in mean_pre_dp])])\n",
    "\n",
    "data = [[dp[0] for dp in mean_pre_dp], [dp[1] for dp in mean_pre_dp]]\n",
    "\n",
    "f, ax = plt.subplots()\n",
    "barscatter(data, ax=ax, paired=True)"
   ]
  },
  {
   "cell_type": "code",
   "execution_count": null,
   "metadata": {},
   "outputs": [],
   "source": []
  }
 ],
 "metadata": {
  "kernelspec": {
   "display_name": "Python 3",
   "language": "python",
   "name": "python3"
  },
  "language_info": {
   "codemirror_mode": {
    "name": "ipython",
    "version": 3
   },
   "file_extension": ".py",
   "mimetype": "text/x-python",
   "name": "python",
   "nbconvert_exporter": "python",
   "pygments_lexer": "ipython3",
   "version": "3.7.6"
  }
 },
 "nbformat": 4,
 "nbformat_minor": 4
}
